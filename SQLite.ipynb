{
 "cells": [
  {
   "cell_type": "code",
   "execution_count": 1,
   "id": "4d52d71e",
   "metadata": {},
   "outputs": [],
   "source": [
    "import sqlite3"
   ]
  },
  {
   "cell_type": "markdown",
   "id": "0ca3e27c",
   "metadata": {},
   "source": [
    "建立資料庫"
   ]
  },
  {
   "cell_type": "code",
   "execution_count": 2,
   "id": "a99e8ffc",
   "metadata": {},
   "outputs": [],
   "source": [
    "database = \"test.db\""
   ]
  },
  {
   "cell_type": "code",
   "execution_count": 3,
   "id": "a8eff8b2",
   "metadata": {},
   "outputs": [],
   "source": [
    "link = sqlite3.connect(database)"
   ]
  },
  {
   "cell_type": "code",
   "execution_count": 4,
   "id": "ac55389d",
   "metadata": {},
   "outputs": [],
   "source": [
    "control = link.cursor()"
   ]
  },
  {
   "cell_type": "markdown",
   "id": "6dca324c",
   "metadata": {},
   "source": [
    "建立資料表"
   ]
  },
  {
   "cell_type": "code",
   "execution_count": 5,
   "id": "6b5a2380",
   "metadata": {},
   "outputs": [],
   "source": [
    "SQL_grammar = \"\"\"Create Table If Not Exists 期中成績\\\n",
    "(\"座號\" Integer Not Null, \\\n",
    "\"姓名\" Text Not Null, \\\n",
    "\"大數據\" Integer Not Null, \\\n",
    "\"資料庫\" Integer Not Null, \\\n",
    "\"財務管理\" Integer Not Null)\"\"\""
   ]
  },
  {
   "cell_type": "code",
   "execution_count": 6,
   "id": "ae6f862a",
   "metadata": {},
   "outputs": [
    {
     "data": {
      "text/plain": [
       "<sqlite3.Cursor at 0x296ade44d50>"
      ]
     },
     "execution_count": 6,
     "metadata": {},
     "output_type": "execute_result"
    }
   ],
   "source": [
    "control.execute(SQL_grammar)"
   ]
  },
  {
   "cell_type": "markdown",
   "id": "41016d7b",
   "metadata": {},
   "source": [
    "https://sqlitebrowser.org/"
   ]
  },
  {
   "cell_type": "markdown",
   "id": "9c03eaea",
   "metadata": {},
   "source": [
    "插入資料至資料表中"
   ]
  },
  {
   "cell_type": "code",
   "execution_count": 7,
   "id": "6b8f8a0f",
   "metadata": {},
   "outputs": [],
   "source": [
    "SQL_grammar = \"\"\"Insert Into 期中成績 Values(1,\"ABC\", 80, 90, 100)\"\"\""
   ]
  },
  {
   "cell_type": "code",
   "execution_count": 8,
   "id": "6c9b5aa7",
   "metadata": {},
   "outputs": [
    {
     "data": {
      "text/plain": [
       "<sqlite3.Cursor at 0x296ade44d50>"
      ]
     },
     "execution_count": 8,
     "metadata": {},
     "output_type": "execute_result"
    }
   ],
   "source": [
    "control.execute(SQL_grammar)"
   ]
  },
  {
   "cell_type": "code",
   "execution_count": 9,
   "id": "17cc5dce",
   "metadata": {},
   "outputs": [],
   "source": [
    "link.commit()"
   ]
  },
  {
   "cell_type": "code",
   "execution_count": null,
   "id": "d1ed15ad",
   "metadata": {},
   "outputs": [],
   "source": []
  },
  {
   "cell_type": "code",
   "execution_count": null,
   "id": "6952fdad",
   "metadata": {},
   "outputs": [],
   "source": []
  }
 ],
 "metadata": {
  "kernelspec": {
   "display_name": "Python 3",
   "language": "python",
   "name": "python3"
  },
  "language_info": {
   "codemirror_mode": {
    "name": "ipython",
    "version": 3
   },
   "file_extension": ".py",
   "mimetype": "text/x-python",
   "name": "python",
   "nbconvert_exporter": "python",
   "pygments_lexer": "ipython3",
   "version": "3.8.8"
  }
 },
 "nbformat": 4,
 "nbformat_minor": 5
}
